{
 "cells": [
  {
   "cell_type": "markdown",
   "metadata": {},
   "source": [
    "# Refactoring Trees"
   ]
  },
  {
   "cell_type": "code",
   "execution_count": 20,
   "metadata": {
    "collapsed": true
   },
   "outputs": [],
   "source": [
    "%matplotlib inline"
   ]
  },
  {
   "cell_type": "markdown",
   "metadata": {},
   "source": [
    "## Original Code"
   ]
  },
  {
   "cell_type": "code",
   "execution_count": null,
   "metadata": {
    "collapsed": true
   },
   "outputs": [],
   "source": [
    "from math import sin, cos\n",
    "from matplotlib import pyplot as plt\n",
    "s=1\n",
    "d=[[0,1,0]]\n",
    "plt.plot([0,0],[0,1])\n",
    "for i in range(5):\n",
    "    n=[]\n",
    "    for j in range(len(d)):\n",
    "        n.append([d[j][0]+s*sin(d[j][2]-0.2), d[j][1]+s*cos(d[j][2]-0.2), d[j][2]-0.2])\n",
    "        n.append([d[j][0]+s*sin(d[j][2]+0.2), d[j][1]+s*cos(d[j][2]+0.2), d[j][2]+0.2])\n",
    "        plt.plot([d[j][0], n[-2][0]],[d[j][1], n[-2][1]])\n",
    "        plt.plot([d[j][0], n[-1][0]],[d[j][1], n[-1][1]])\n",
    "    d=n\n",
    "    s*=0.6\n",
    "#plt.savefig('tree.png')"
   ]
  },
  {
   "cell_type": "markdown",
   "metadata": {},
   "source": [
    "## Refactoring 1 - Replace Numbers"
   ]
  },
  {
   "cell_type": "code",
   "execution_count": null,
   "metadata": {
    "collapsed": true
   },
   "outputs": [],
   "source": [
    "from math import sin, cos\n",
    "from matplotlib import pyplot as plt\n",
    "num_branches = 5\n",
    "angle_change = 0.2\n",
    "length_change = 0.6\n",
    "angle_init = 0\n",
    "tree_start = 0\n",
    "s=1\n",
    "d=[[tree_start, s, angle_init]]\n",
    "plt.plot([tree_start, tree_start],[tree_start, s])\n",
    "for i in range(num_branches):\n",
    "    n=[]\n",
    "    for j in range(len(d)):\n",
    "        n.append([d[j][0]+s*sin(d[j][2]-angle_change), d[j][1]+s*cos(d[j][2]-angle_change), d[j][2]-angle_change])\n",
    "        n.append([d[j][0]+s*sin(d[j][2]+angle_change), d[j][1]+s*cos(d[j][2]+angle_change), d[j][2]+angle_change])\n",
    "        plt.plot([d[j][0], n[-2][0]],[d[j][1], n[-2][1]])\n",
    "        plt.plot([d[j][0], n[-1][0]],[d[j][1], n[-1][1]])\n",
    "    d=n\n",
    "    s*=length_change\n",
    "#plt.savefig('tree.png')"
   ]
  },
  {
   "cell_type": "markdown",
   "metadata": {},
   "source": [
    "## Refactoring 2 - Rename Variables"
   ]
  },
  {
   "cell_type": "code",
   "execution_count": null,
   "metadata": {
    "collapsed": true
   },
   "outputs": [],
   "source": [
    "from math import sin, cos\n",
    "from matplotlib import pyplot as plt\n",
    "num_branches = 5\n",
    "angle_init = 0\n",
    "angle_change = 0.2\n",
    "length=1\n",
    "length_change = 0.6\n",
    "tree_start = 0\n",
    "branch_start=[[tree_start, length, angle_init]]\n",
    "plt.plot([tree_start, tree_start],[tree_start, length])\n",
    "for i in range(num_branches):\n",
    "    branch_end=[]\n",
    "    for j in range(len(branch_start)):\n",
    "        branch_end.append([branch_start[j][0]+length*sin(branch_start[j][2]-angle_change), \n",
    "                           branch_start[j][1]+length*cos(branch_start[j][2]-angle_change), branch_start[j][2]-angle_change])\n",
    "        branch_end.append([branch_start[j][0]+length*sin(branch_start[j][2]+angle_change), \n",
    "                           branch_start[j][1]+length*cos(branch_start[j][2]+angle_change), branch_start[j][2]+angle_change])\n",
    "        plt.plot([branch_start[j][0], branch_end[-2][0]],[branch_start[j][1], branch_end[-2][1]])\n",
    "        plt.plot([branch_start[j][0], branch_end[-1][0]],[branch_start[j][1], branch_end[-1][1]])\n",
    "    branch_start=branch_end\n",
    "    length*=length_change\n",
    "#plt.savefig('tree.png')"
   ]
  },
  {
   "cell_type": "markdown",
   "metadata": {},
   "source": [
    "## Refactoring 3 - Replace Loop With Iterator"
   ]
  },
  {
   "cell_type": "code",
   "execution_count": null,
   "metadata": {
    "collapsed": true
   },
   "outputs": [],
   "source": [
    "from math import sin, cos\n",
    "from matplotlib import pyplot as plt\n",
    "num_branches = 5\n",
    "angle_init = 0\n",
    "angle_change = 0.2\n",
    "length=1\n",
    "length_change = 0.6\n",
    "tree_start = 0\n",
    "branch_start=[[tree_start, length, angle_init]]\n",
    "plt.plot([tree_start, tree_start],[tree_start, length])\n",
    "for i in range(num_branches):\n",
    "    branch_end=[]\n",
    "    for branch in branch_start:\n",
    "        branch_end.append([branch[0]+length*sin(branch[2]-angle_change), \n",
    "                           branch[1]+length*cos(branch[2]-angle_change), branch[2]-angle_change])\n",
    "        branch_end.append([branch[0]+length*sin(branch[2]+angle_change), \n",
    "                           branch[1]+length*cos(branch[2]+angle_change), branch[2]+angle_change])\n",
    "        plt.plot([branch[0], branch_end[-2][0]],[branch[1], branch_end[-2][1]])\n",
    "        plt.plot([branch[0], branch_end[-1][0]],[branch[1], branch_end[-1][1]])\n",
    "    branch_start=branch_end\n",
    "    length*=length_change\n",
    "#plt.savefig('tree.png')"
   ]
  },
  {
   "cell_type": "markdown",
   "metadata": {
    "collapsed": true
   },
   "source": [
    "## Refactoring 4 - Replace Repeated Code with a Function"
   ]
  },
  {
   "cell_type": "code",
   "execution_count": null,
   "metadata": {
    "collapsed": true
   },
   "outputs": [],
   "source": [
    "from math import sin, cos\n",
    "from matplotlib import pyplot as plt\n",
    "\n",
    "def extend_branch(branch, angle_change):\n",
    "    x_coord = branch[0]+length*sin(branch[2]+angle_change)\n",
    "    y_coord = branch[1]+length*cos(branch[2]+angle_change)\n",
    "    new_angle = branch[2]+angle_change\n",
    "    plt.plot([branch[0], x_coord],[branch[1], y_coord])\n",
    "    return [x_coord, y_coord, new_angle]\n",
    "\n",
    "num_branches = 5\n",
    "angle_init = 0\n",
    "angle_change = 0.2\n",
    "length=1\n",
    "length_change = 0.6\n",
    "tree_start = 0\n",
    "branch_start=[[tree_start, length, angle_init]]\n",
    "plt.plot([tree_start, tree_start],[tree_start, length])\n",
    "for i in range(num_branches):\n",
    "    branch_end=[]\n",
    "    for branch in branch_start:\n",
    "        for angle in [-angle_change, angle_change]:\n",
    "            branch_end.append(extend_branch(branch, angle))\n",
    "    branch_start=branch_end\n",
    "    length*=length_change\n",
    "#plt.savefig('tree.png')"
   ]
  },
  {
   "cell_type": "markdown",
   "metadata": {},
   "source": [
    "## Refactoring 4 - Replace Repeated Code with a Function"
   ]
  },
  {
   "cell_type": "code",
   "execution_count": null,
   "metadata": {
    "collapsed": true
   },
   "outputs": [],
   "source": [
    "from math import sin, cos\n",
    "from matplotlib import pyplot as plt\n",
    "\n",
    "def extend_branch(branch, length, angle_change):\n",
    "    x_coord = branch[0]+length*sin(branch[2]+angle_change)\n",
    "    y_coord = branch[1]+length*cos(branch[2]+angle_change)\n",
    "    new_angle = branch[2]+angle_change\n",
    "    plt.plot([branch[0], x_coord],[branch[1], y_coord])\n",
    "    return [x_coord, y_coord, new_angle]\n",
    "\n",
    "def extend_tree(branches, length, angle_change):\n",
    "    new_branches = []\n",
    "    for branch in branches:\n",
    "        for angle in [-angle_change, angle_change]:\n",
    "            new_branches.append(extend_branch(branch, length, angle))\n",
    "    return new_branches\n",
    "    \n",
    "num_branches = 5\n",
    "angle_init = 0\n",
    "angle_change = 0.2\n",
    "length=1\n",
    "length_change = 0.6\n",
    "tree_start = 0\n",
    "branch_start=[[tree_start, length, angle_init]]\n",
    "plt.plot([tree_start, tree_start],[tree_start, length])\n",
    "for i in range(num_branches):\n",
    "    branch_end = extend_tree(branch_start, length, angle_change)\n",
    "    branch_start = branch_end\n",
    "    length *= length_change\n",
    "#plt.savefig('tree.png')"
   ]
  },
  {
   "cell_type": "markdown",
   "metadata": {},
   "source": [
    "## Refactoring 5 - Replace for loop with while loop"
   ]
  },
  {
   "cell_type": "code",
   "execution_count": null,
   "metadata": {
    "collapsed": true
   },
   "outputs": [],
   "source": [
    "from math import sin, cos\n",
    "from matplotlib import pyplot as plt\n",
    "\n",
    "def extend_branch(branch, length, angle_change):\n",
    "    x_coord = branch[0]+length*sin(branch[2]+angle_change)\n",
    "    y_coord = branch[1]+length*cos(branch[2]+angle_change)\n",
    "    new_angle = branch[2]+angle_change\n",
    "    plt.plot([branch[0], x_coord],[branch[1], y_coord])\n",
    "    return [x_coord, y_coord, new_angle]\n",
    "\n",
    "def extend_tree(branches, length, angle_change):\n",
    "    new_branches = []\n",
    "    for branch in branches:\n",
    "        for angle in [-angle_change, angle_change]:\n",
    "            new_branches.append(extend_branch(branch, length, angle))\n",
    "    return new_branches\n",
    "    \n",
    "num_branches = 5\n",
    "angle_init = 0\n",
    "angle_change = 0.2\n",
    "length=1\n",
    "length_change = 0.6\n",
    "tree_start = 0\n",
    "branch_start=[[tree_start, length, angle_init]]\n",
    "plt.plot([tree_start, tree_start],[tree_start, length])\n",
    "count = 0\n",
    "while count < num_branches:\n",
    "    branch_end = extend_tree(branch_start, length, angle_change)\n",
    "    branch_start = branch_end\n",
    "    length *= length_change\n",
    "    count += 1\n",
    "#plt.savefig('tree.png')"
   ]
  },
  {
   "cell_type": "markdown",
   "metadata": {},
   "source": [
    "### Refactoring 5 - Clean up variables"
   ]
  },
  {
   "cell_type": "code",
   "execution_count": null,
   "metadata": {
    "collapsed": true
   },
   "outputs": [],
   "source": [
    "from math import sin, cos\n",
    "from matplotlib import pyplot as plt\n",
    "\n",
    "def extend_branch(branch, length, angle_change):\n",
    "    x_coord = branch[0]+length*sin(branch[2]+angle_change)\n",
    "    y_coord = branch[1]+length*cos(branch[2]+angle_change)\n",
    "    new_angle = branch[2]+angle_change\n",
    "    plt.plot([branch[0], x_coord],[branch[1], y_coord])\n",
    "    return [x_coord, y_coord, new_angle]\n",
    "\n",
    "def extend_tree(branches, length, angle_change):\n",
    "    new_branches = []\n",
    "    for branch in branches:\n",
    "        for angle in [-angle_change, angle_change]:\n",
    "            new_branches.append(extend_branch(branch, length, angle))\n",
    "    return new_branches\n",
    "    \n",
    "num_branches = 5\n",
    "angle = {'start': 0, 'update': 0.2}\n",
    "length = {'current': 1, 'update': 0.6}\n",
    "branch_start=[[0, length['current'], angle['start']]]\n",
    "plt.plot([0, 0],[0, length['current']])\n",
    "count = 0\n",
    "while count < num_branches:\n",
    "    branch_end = extend_tree(branch_start, length['current'], angle['update'])\n",
    "    branch_start = branch_end\n",
    "    length['current'] *= length['update']\n",
    "    count += 1\n",
    "#plt.savefig('tree.png')"
   ]
  },
  {
   "cell_type": "code",
   "execution_count": 21,
   "metadata": {},
   "outputs": [
    {
     "data": {
      "image/png": "[encoded data removed]",
      "text/plain": [
       "<matplotlib.figure.Figure at 0x24eafc78470>"
      ]
     },
     "metadata": {},
     "output_type": "display_data"
    }
   ],
   "source": [
    "from math import sin, cos\n",
    "from matplotlib import pyplot as plt\n",
    "\n",
    "def initialise_tree(initial_tree):\n",
    "    plt.plot(initial_tree['x_coords'],initial_tree['y_coords'])\n",
    "    return [[initial_tree['x_coords'][1], initial_tree['y_coords'][1], initial_tree['angle']]]\n",
    "\n",
    "def extend_tree(branches, length, angle_change):\n",
    "    new_branches = []\n",
    "    for branch in branches:\n",
    "        for angle in [-angle_change, angle_change]:\n",
    "            new_branches.append(extend_branch(branch, length, angle))\n",
    "    return new_branches\n",
    "\n",
    "def extend_branch(branch, length, angle_change):\n",
    "    x_coord = branch[0]+length*sin(branch[2]+angle_change)\n",
    "    y_coord = branch[1]+length*cos(branch[2]+angle_change)\n",
    "    new_angle = branch[2]+angle_change\n",
    "    plt.plot([branch[0], x_coord],[branch[1], y_coord])\n",
    "    return [x_coord, y_coord, new_angle]\n",
    "    \n",
    "tree_levels = 5\n",
    "angle = {'start': 0, 'update': 0.2}\n",
    "length = {'current': 1, 'update': 0.6}\n",
    "tree_trunk = {'x_coords': [0, 0], 'y_coords': [0, 1], 'angle': 0}\n",
    "branches = initialise_tree(tree_trunk)\n",
    "count = 0\n",
    "while count < tree_levels:\n",
    "    branches = extend_tree(branches, length['current'], angle['update'])\n",
    "    length['current'] *= length['update']\n",
    "    count += 1\n",
    "#plt.savefig('tree.png')"
   ]
  },
  {
   "cell_type": "markdown",
   "metadata": {
    "collapsed": true
   },
   "source": [
    "### Refactoring 6 - Put into class"
   ]
  },
  {
   "cell_type": "code",
   "execution_count": 38,
   "metadata": {},
   "outputs": [
    {
     "data": {
      "image/png": "[encoded data removed]",
      "text/plain": [
       "<matplotlib.figure.Figure at 0x22d042cccf8>"
      ]
     },
     "metadata": {},
     "output_type": "display_data"
    }
   ],
   "source": [
    "from math import sin, cos\n",
    "from matplotlib import pyplot as plt\n",
    "from argparse import ArgumentParser\n",
    "        \n",
    "def build_tree(levels, angle_change, length, length_change, plot_tree):\n",
    "    branches = initialise_tree(length, plot_tree)\n",
    "    count = 0\n",
    "    while count < levels:\n",
    "        branches = extend_tree(branches, length, angle_change, plot_tree)\n",
    "        length *= length_change\n",
    "        count += 1\n",
    "    if plot_tree:\n",
    "        plt.show()\n",
    "        #plt.savefig('tree.png')\n",
    "    \n",
    "def initialise_tree(length, plot_tree):\n",
    "    if plot_tree:\n",
    "        plt.plot([0, 0], [0, length])\n",
    "    return [[0, length, 0]]\n",
    "\n",
    "def extend_tree(branches, length, angle_change, plot_tree):\n",
    "    new_branches = []\n",
    "    for branch in branches:\n",
    "        for angle in [-angle_change, angle_change]:\n",
    "            new_branches.append(extend_branch(branch, length, angle, plot_tree))\n",
    "    return new_branches\n",
    "\n",
    "def extend_branch(branch, length, angle_change, plot_tree):\n",
    "    x_coord = branch[0]+length*sin(branch[2]+angle_change)\n",
    "    y_coord = branch[1]+length*cos(branch[2]+angle_change)\n",
    "    new_angle = branch[2]+angle_change\n",
    "    if plot_tree:\n",
    "        plt.plot([branch[0], x_coord],[branch[1], y_coord])\n",
    "    return [x_coord, y_coord, new_angle]\n",
    "    \n",
    "def process():\n",
    "    parser = ArgumentParser(description=\"Build a tree\")\n",
    "    parser.add_argument(\"levels\", help=\"Number of tree levels above trunk\", type=int)\n",
    "    parser.add_argument(\"angle_change\", help=\"Increment / decrement to angle of branches\", type=float)\n",
    "    parser.add_argument(\"length\", help=\"Tree branch length\", type=float)\n",
    "    parser.add_argument(\"length_change\", help=\"Change in branch length after each level\", type=float)\n",
    "    parser.add_argument('--plot_tree', help=\"Flag to turn plotting on/off\", default=False, type=bool)\n",
    "    args = parser.parse_args()\n",
    "    new_tree = build_tree(args.levels, args.angle_change, args.length, args.length_change, args.plot_tree)\n",
    "    \n",
    "if __name__ == \"__main__\":\n",
    "    process()\n",
    "\n",
    "tree_levels = 5\n",
    "angle_change = 0.2\n",
    "length = 1\n",
    "length_change = 0.6\n",
    "plot_tree = True\n",
    "new_tree = build_tree(tree_levels, angle_change, length, length_change, plot_tree)"
   ]
  },
  {
   "cell_type": "markdown",
   "metadata": {
    "collapsed": true
   },
   "source": [
    "## Numpy"
   ]
  },
  {
   "cell_type": "code",
   "execution_count": 126,
   "metadata": {},
   "outputs": [
    {
     "data": {
      "image/png": "[encoded data removed]",
      "text/plain": [
       "<matplotlib.figure.Figure at 0x196335ee898>"
      ]
     },
     "metadata": {},
     "output_type": "display_data"
    }
   ],
   "source": [
    "from math import sin, cos\n",
    "from matplotlib import pyplot as plt\n",
    "import numpy as np\n",
    "from argparse import ArgumentParser\n",
    "        \n",
    "def build_tree(levels, angle_change, length, length_change, plot_tree):\n",
    "    branches = initialise_tree(length, plot_tree)\n",
    "    count = 0\n",
    "    while count < levels:\n",
    "        extend_tree_plus = extend_branch(branches, length, angle_change, plot_tree)\n",
    "        extend_tree_minus = extend_branch(branches, length, -angle_change, plot_tree)\n",
    "        branches = np.hstack((extend_tree_plus, extend_tree_minus))\n",
    "        length *= length_change\n",
    "        count += 1\n",
    "    if plot_tree:\n",
    "        plt.show()\n",
    "        #plt.savefig('tree.png')\n",
    "    \n",
    "def initialise_tree(length, plot_tree):\n",
    "    new_branches = np.array([0, length, 0],dtype=float)\n",
    "    if plot_tree:\n",
    "        plot_branches(np.array([0, 0, 0]), new_branches)\n",
    "    return new_branches\n",
    "\n",
    "def extend_branch(branches, length, angle_change, plot_tree):\n",
    "    new_branches = np.copy(branches)\n",
    "    new_angle = branches[2::3] + angle_change\n",
    "    new_branches[::3] = branches[::3] + length*np.sin(new_angle)\n",
    "    new_branches[1::3] = branches[1::3] + length*np.cos(new_angle)\n",
    "    new_branches[2::3] = new_angle\n",
    "    if plot_tree:\n",
    "        plot_branches(branches, new_branches)\n",
    "    return new_branches\n",
    "\n",
    "def plot_branches(branches, new_branches):\n",
    "    branches_reshape = np.reshape(branches,(int(len(new_branches)/3),3))\n",
    "    new_branches_reshape = np.reshape(new_branches,(int(len(new_branches)/3),3))\n",
    "    for i in range(branches_reshape.shape[0]):\n",
    "        plt.plot([branches_reshape[i][0], new_branches_reshape[i][0]],\n",
    "                 [branches_reshape[i][1], new_branches_reshape[i][1]])\n",
    "\n",
    "tree_levels = 8\n",
    "angle_change = 0.2\n",
    "length = 1\n",
    "length_change = 0.6\n",
    "plot_tree = True\n",
    "new_tree = build_tree(tree_levels, angle_change, length, length_change, plot_tree)"
   ]
  },
  {
   "cell_type": "code",
   "execution_count": 97,
   "metadata": {},
   "outputs": [
    {
     "data": {
      "text/plain": [
       "2"
      ]
     },
     "execution_count": 97,
     "metadata": {},
     "output_type": "execute_result"
    }
   ],
   "source": [
    "tmp1 = initialise_tree(length, plot_tree)\n",
    "tmp2 = initialise_tree(length+2, plot_tree)\n",
    "tmp3 = np.hstack((tmp1,tmp2))\n",
    "tmp4 = np.reshape(tmp3,(int(len(tmp3)/3),3))\n",
    "[n for n in tmp4]\n",
    "tmp4.shape[0]"
   ]
  },
  {
   "cell_type": "code",
   "execution_count": null,
   "metadata": {
    "collapsed": true
   },
   "outputs": [],
   "source": []
  }
 ],
 "metadata": {
  "kernelspec": {
   "display_name": "Python 3",
   "language": "python",
   "name": "python3"
  },
  "language_info": {
   "codemirror_mode": {
    "name": "ipython",
    "version": 3
   },
   "file_extension": ".py",
   "mimetype": "text/x-python",
   "name": "python",
   "nbconvert_exporter": "python",
   "pygments_lexer": "ipython3",
   "version": "3.6.3"
  }
 },
 "nbformat": 4,
 "nbformat_minor": 2
}
