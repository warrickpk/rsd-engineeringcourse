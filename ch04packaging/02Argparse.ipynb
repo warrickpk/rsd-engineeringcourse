{
 "cells": [
  {
   "cell_type": "markdown",
   "metadata": {},
   "source": [
    "## Argparse"
   ]
  },
  {
   "cell_type": "markdown",
   "metadata": {},
   "source": [
    "\n",
    "This is the standard library for building programs with a command-line interface.\n",
    "\n",
    "\n",
    "\n",
    "\n",
    "\n"
   ]
  },
  {
   "cell_type": "code",
   "execution_count": 1,
   "metadata": {},
   "outputs": [
    {
     "name": "stdout",
     "output_type": "stream",
     "text": [
      "Writing greeter.py\n"
     ]
    }
   ],
   "source": [
    "%%writefile greeter.py\n",
    "#!/usr/bin/env python\n",
    "from argparse import ArgumentParser\n",
    "if __name__ == \"__main__\":\n",
    "    parser = ArgumentParser(description = \"Generate appropriate greetings\")\n",
    "    parser.add_argument('--title', '-t')\n",
    "    parser.add_argument('--polite','-p', action=\"store_true\")\n",
    "    parser.add_argument('personal')\n",
    "    parser.add_argument('family')\n",
    "    arguments= parser.parse_args()\n",
    "    \n",
    "    greeting= \"How do you do, \" if arguments.polite else \"Hey, \"\n",
    "    if arguments.title:\n",
    "        greeting+=arguments.title+\" \"\n",
    "    greeting+= arguments.personal + \" \" + arguments.family +\".\"\n",
    "    print(greeting)\n"
   ]
  },
  {
   "cell_type": "markdown",
   "metadata": {},
   "source": [
    "\n",
    "\n",
    "\n",
    "\n"
   ]
  },
  {
   "cell_type": "code",
   "execution_count": 2,
   "metadata": {},
   "outputs": [
    {
     "name": "stderr",
     "output_type": "stream",
     "text": [
      "bash.exe: warning: could not find /tmp, please create!\n",
      "bash: line 2: chmod: command not found\n"
     ]
    }
   ],
   "source": [
    "%%bash\n",
    "#!/usr/bin/env bash\n",
    "chmod u+x greeter.py"
   ]
  },
  {
   "cell_type": "code",
   "execution_count": 4,
   "metadata": {},
   "outputs": [
    {
     "name": "stdout",
     "output_type": "stream",
     "text": [
      "usage: greeter.py [-h] [--title TITLE] [--polite] personal family\r\n",
      "\r\n",
      "Generate appropriate greetings\r\n",
      "\r\n",
      "positional arguments:\r\n",
      "  personal\r\n",
      "  family\r\n",
      "\r\n",
      "optional arguments:\r\n",
      "  -h, --help            show this help message and exit\r\n",
      "  --title TITLE, -t TITLE\r\n",
      "  --polite, -p\r\n"
     ]
    },
    {
     "name": "stderr",
     "output_type": "stream",
     "text": [
      "bash.exe: warning: could not find /tmp, please create!\n"
     ]
    }
   ],
   "source": [
    "%%bash\n",
    "# NB need python first here\n",
    "python ./greeter.py --help"
   ]
  },
  {
   "cell_type": "code",
   "execution_count": 4,
   "metadata": {},
   "outputs": [
    {
     "name": "stdout",
     "output_type": "stream",
     "text": [
      "Hey, James Hetherington.\n"
     ]
    }
   ],
   "source": [
    "%%bash\n",
    "./greeter.py James Hetherington"
   ]
  },
  {
   "cell_type": "code",
   "execution_count": 12,
   "metadata": {},
   "outputs": [
    {
     "name": "stdout",
     "output_type": "stream",
     "text": [
      "How do you do, James Hetherington.\n"
     ]
    }
   ],
   "source": [
    "%%bash\n",
    "./greeter.py --polite James Hetherington"
   ]
  },
  {
   "cell_type": "code",
   "execution_count": 13,
   "metadata": {},
   "outputs": [
    {
     "name": "stdout",
     "output_type": "stream",
     "text": [
      "Hey, Dr James Hetherington.\n"
     ]
    }
   ],
   "source": [
    "%%bash\n",
    "./greeter.py James Hetherington --title Dr"
   ]
  },
  {
   "cell_type": "code",
   "execution_count": null,
   "metadata": {
    "collapsed": true
   },
   "outputs": [],
   "source": []
  }
 ],
 "metadata": {
  "jekyll": {
   "display_name": "Argparse"
  },
  "kernelspec": {
   "display_name": "Python 3",
   "language": "python",
   "name": "python3"
  },
  "language_info": {
   "codemirror_mode": {
    "name": "ipython",
    "version": 3
   },
   "file_extension": ".py",
   "mimetype": "text/x-python",
   "name": "python",
   "nbconvert_exporter": "python",
   "pygments_lexer": "ipython3",
   "version": "3.6.3"
  },
  "widgets": {
   "state": {},
   "version": "1.1.2"
  }
 },
 "nbformat": 4,
 "nbformat_minor": 1
}
