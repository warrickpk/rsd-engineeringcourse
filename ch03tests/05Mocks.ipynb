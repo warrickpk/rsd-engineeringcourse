{
 "cells": [
  {
   "cell_type": "markdown",
   "metadata": {},
   "source": [
    "## Mocking"
   ]
  },
  {
   "cell_type": "markdown",
   "metadata": {},
   "source": [
    "### Definition\n",
    "\n",
    "**Mock**: *verb*,\n",
    "\n",
    "1. to tease or laugh at in a scornful or contemptuous manner\n",
    "2. to make a replica or imitation of something\n",
    "\n"
   ]
  },
  {
   "cell_type": "markdown",
   "metadata": {},
   "source": [
    "**Mocking**\n",
    "\n",
    "- Replace a real object with a pretend object, which records how it is called, and can assert if it is called wrong"
   ]
  },
  {
   "cell_type": "markdown",
   "metadata": {},
   "source": [
    "### Mocking frameworks\n",
    "\n",
    "* C: [CMocka](http://www.cmocka.org/)\n",
    "* C++: [googlemock](https://code.google.com/p/googlemock/)\n",
    "* Python: [unittest.mock](http://docs.python.org/dev/library/unittest.mock)"
   ]
  },
  {
   "cell_type": "markdown",
   "metadata": {},
   "source": [
    "### Recording calls with mock\n",
    "\n",
    "Mock objects record the calls made to them:"
   ]
  },
  {
   "cell_type": "code",
   "execution_count": 21,
   "metadata": {
    "collapsed": true
   },
   "outputs": [],
   "source": [
    "from unittest.mock import Mock\n",
    "function = Mock(name=\"myroutine\", return_value=2)"
   ]
  },
  {
   "cell_type": "code",
   "execution_count": 22,
   "metadata": {},
   "outputs": [
    {
     "data": {
      "text/plain": [
       "2"
      ]
     },
     "execution_count": 22,
     "metadata": {},
     "output_type": "execute_result"
    }
   ],
   "source": [
    "function(1)"
   ]
  },
  {
   "cell_type": "code",
   "execution_count": 23,
   "metadata": {},
   "outputs": [
    {
     "data": {
      "text/plain": [
       "2"
      ]
     },
     "execution_count": 23,
     "metadata": {},
     "output_type": "execute_result"
    }
   ],
   "source": [
    "function(5, \"hello\", a=True)"
   ]
  },
  {
   "cell_type": "code",
   "execution_count": 24,
   "metadata": {
    "attributes": {
     "classes": [
      " python"
     ],
     "id": ""
    }
   },
   "outputs": [
    {
     "data": {
      "text/plain": [
       "[call(1), call(5, 'hello', a=True)]"
      ]
     },
     "execution_count": 24,
     "metadata": {},
     "output_type": "execute_result"
    }
   ],
   "source": [
    "function.mock_calls"
   ]
  },
  {
   "cell_type": "markdown",
   "metadata": {},
   "source": [
    "The arguments of each call can be recovered"
   ]
  },
  {
   "cell_type": "code",
   "execution_count": 25,
   "metadata": {
    "attributes": {
     "classes": [
      " python"
     ],
     "id": ""
    }
   },
   "outputs": [
    {
     "data": {
      "text/plain": [
       "('', (5, 'hello'), {'a': True})"
      ]
     },
     "execution_count": 25,
     "metadata": {},
     "output_type": "execute_result"
    }
   ],
   "source": [
    "name, args, kwargs = function.mock_calls[1]\n",
    "name, args, kwargs"
   ]
  },
  {
   "cell_type": "markdown",
   "metadata": {},
   "source": [
    "Mock objects can return different values for each call"
   ]
  },
  {
   "cell_type": "code",
   "execution_count": 7,
   "metadata": {
    "collapsed": true
   },
   "outputs": [],
   "source": [
    "function = Mock(name=\"myroutine\", side_effect=[2, \"xyz\"])"
   ]
  },
  {
   "cell_type": "code",
   "execution_count": 8,
   "metadata": {},
   "outputs": [
    {
     "data": {
      "text/plain": [
       "2"
      ]
     },
     "execution_count": 8,
     "metadata": {},
     "output_type": "execute_result"
    }
   ],
   "source": [
    "function(1)"
   ]
  },
  {
   "cell_type": "code",
   "execution_count": 9,
   "metadata": {},
   "outputs": [
    {
     "data": {
      "text/plain": [
       "'xyz'"
      ]
     },
     "execution_count": 9,
     "metadata": {},
     "output_type": "execute_result"
    }
   ],
   "source": [
    "function(1, \"hello\", {'a': True})"
   ]
  },
  {
   "cell_type": "markdown",
   "metadata": {},
   "source": [
    "We expect an error if there are no return values left in the list:"
   ]
  },
  {
   "cell_type": "code",
   "execution_count": 10,
   "metadata": {},
   "outputs": [
    {
     "ename": "StopIteration",
     "evalue": "",
     "output_type": "error",
     "traceback": [
      "\u001b[1;31m---------------------------------------------------------------------------\u001b[0m",
      "\u001b[1;31mStopIteration\u001b[0m                             Traceback (most recent call last)",
      "\u001b[1;32m<ipython-input-10-2fcbbbc1fe81>\u001b[0m in \u001b[0;36m<module>\u001b[1;34m()\u001b[0m\n\u001b[1;32m----> 1\u001b[1;33m \u001b[0mfunction\u001b[0m\u001b[1;33m(\u001b[0m\u001b[1;33m)\u001b[0m\u001b[1;33m\u001b[0m\u001b[0m\n\u001b[0m",
      "\u001b[1;32m~\\AppData\\Local\\Continuum\\anaconda3\\lib\\unittest\\mock.py\u001b[0m in \u001b[0;36m__call__\u001b[1;34m(_mock_self, *args, **kwargs)\u001b[0m\n\u001b[0;32m    937\u001b[0m         \u001b[1;31m# in the signature\u001b[0m\u001b[1;33m\u001b[0m\u001b[1;33m\u001b[0m\u001b[0m\n\u001b[0;32m    938\u001b[0m         \u001b[0m_mock_self\u001b[0m\u001b[1;33m.\u001b[0m\u001b[0m_mock_check_sig\u001b[0m\u001b[1;33m(\u001b[0m\u001b[1;33m*\u001b[0m\u001b[0margs\u001b[0m\u001b[1;33m,\u001b[0m \u001b[1;33m**\u001b[0m\u001b[0mkwargs\u001b[0m\u001b[1;33m)\u001b[0m\u001b[1;33m\u001b[0m\u001b[0m\n\u001b[1;32m--> 939\u001b[1;33m         \u001b[1;32mreturn\u001b[0m \u001b[0m_mock_self\u001b[0m\u001b[1;33m.\u001b[0m\u001b[0m_mock_call\u001b[0m\u001b[1;33m(\u001b[0m\u001b[1;33m*\u001b[0m\u001b[0margs\u001b[0m\u001b[1;33m,\u001b[0m \u001b[1;33m**\u001b[0m\u001b[0mkwargs\u001b[0m\u001b[1;33m)\u001b[0m\u001b[1;33m\u001b[0m\u001b[0m\n\u001b[0m\u001b[0;32m    940\u001b[0m \u001b[1;33m\u001b[0m\u001b[0m\n\u001b[0;32m    941\u001b[0m \u001b[1;33m\u001b[0m\u001b[0m\n",
      "\u001b[1;32m~\\AppData\\Local\\Continuum\\anaconda3\\lib\\unittest\\mock.py\u001b[0m in \u001b[0;36m_mock_call\u001b[1;34m(_mock_self, *args, **kwargs)\u001b[0m\n\u001b[0;32m    996\u001b[0m \u001b[1;33m\u001b[0m\u001b[0m\n\u001b[0;32m    997\u001b[0m             \u001b[1;32mif\u001b[0m \u001b[1;32mnot\u001b[0m \u001b[0m_callable\u001b[0m\u001b[1;33m(\u001b[0m\u001b[0meffect\u001b[0m\u001b[1;33m)\u001b[0m\u001b[1;33m:\u001b[0m\u001b[1;33m\u001b[0m\u001b[0m\n\u001b[1;32m--> 998\u001b[1;33m                 \u001b[0mresult\u001b[0m \u001b[1;33m=\u001b[0m \u001b[0mnext\u001b[0m\u001b[1;33m(\u001b[0m\u001b[0meffect\u001b[0m\u001b[1;33m)\u001b[0m\u001b[1;33m\u001b[0m\u001b[0m\n\u001b[0m\u001b[0;32m    999\u001b[0m                 \u001b[1;32mif\u001b[0m \u001b[0m_is_exception\u001b[0m\u001b[1;33m(\u001b[0m\u001b[0mresult\u001b[0m\u001b[1;33m)\u001b[0m\u001b[1;33m:\u001b[0m\u001b[1;33m\u001b[0m\u001b[0m\n\u001b[0;32m   1000\u001b[0m                     \u001b[1;32mraise\u001b[0m \u001b[0mresult\u001b[0m\u001b[1;33m\u001b[0m\u001b[0m\n",
      "\u001b[1;31mStopIteration\u001b[0m: "
     ]
    }
   ],
   "source": [
    "function()"
   ]
  },
  {
   "cell_type": "markdown",
   "metadata": {},
   "source": [
    "### Using mocks to model test resources"
   ]
  },
  {
   "cell_type": "markdown",
   "metadata": {},
   "source": [
    "Often we want to write tests for code which interacts with remote resources. (E.g. databases, the internet, or data files.)"
   ]
  },
  {
   "cell_type": "markdown",
   "metadata": {},
   "source": [
    "We don't want to have our tests *actually* interact with the remote resource, as this would mean our tests failed\n",
    "due to lost internet connections, for example."
   ]
  },
  {
   "cell_type": "markdown",
   "metadata": {},
   "source": [
    "Instead, we can use mocks to assert that our code does the right thing in terms of the *messages it sends*: the parameters of the\n",
    "function calls it makes to the remote resource."
   ]
  },
  {
   "cell_type": "markdown",
   "metadata": {},
   "source": [
    "For example, consider the following code that downloads a map from the internet:"
   ]
  },
  {
   "cell_type": "code",
   "execution_count": 11,
   "metadata": {
    "collapsed": true
   },
   "outputs": [],
   "source": [
    "import requests\n",
    "\n",
    "def map_at(lat,long, satellite=False, zoom=12, \n",
    "           size=(400,400), sensor=False):\n",
    "    \n",
    "    base=\"http://maps.googleapis.com/maps/api/staticmap?\"\n",
    "    \n",
    "    params=dict(\n",
    "        sensor= str(sensor).lower(),\n",
    "        zoom= zoom,\n",
    "        size= \"x\".join(map(str,size)),\n",
    "        center= \",\".join(map(str,(lat,long))),\n",
    "        style=\"feature:all|element:labels|visibility:off\")\n",
    "    \n",
    "    if satellite:\n",
    "        params[\"maptype\"]=\"satellite\"\n",
    "        \n",
    "    return requests.get(base,params=params)"
   ]
  },
  {
   "cell_type": "code",
   "execution_count": 12,
   "metadata": {
    "collapsed": true
   },
   "outputs": [],
   "source": [
    "london_map=map_at(51.5073509, -0.1277583)\n",
    "import IPython"
   ]
  },
  {
   "cell_type": "code",
   "execution_count": 13,
   "metadata": {},
   "outputs": [
    {
     "data": {
      "image/png": "[encoded data removed]",
      "text/plain": [
       "<IPython.core.display.Image object>"
      ]
     },
     "execution_count": 13,
     "metadata": {},
     "output_type": "execute_result"
    }
   ],
   "source": [
    "%matplotlib inline\n",
    "IPython.core.display.Image(london_map.content)"
   ]
  },
  {
   "cell_type": "markdown",
   "metadata": {},
   "source": [
    "We would like to test that it is building the parameters correctly. We can do this by **mocking** the requests object. We need to temporarily replace a method in the library with a mock. We can use \"patch\" to do this:"
   ]
  },
  {
   "cell_type": "code",
   "execution_count": 14,
   "metadata": {
    "scrolled": true
   },
   "outputs": [
    {
     "name": "stdout",
     "output_type": "stream",
     "text": [
      "[call('http://maps.googleapis.com/maps/api/staticmap?', params={'sensor': 'false', 'zoom': 12, 'size': '400x400', 'center': '51.5073509,-0.1277583', 'style': 'feature:all|element:labels|visibility:off'})]\n"
     ]
    }
   ],
   "source": [
    "from unittest.mock import patch\n",
    "with patch.object(requests,'get') as mock_get:\n",
    "    london_map=map_at(51.5073509, -0.1277583)\n",
    "    print(mock_get.mock_calls)"
   ]
  },
  {
   "cell_type": "markdown",
   "metadata": {},
   "source": [
    "Our tests then look like:"
   ]
  },
  {
   "cell_type": "code",
   "execution_count": 27,
   "metadata": {
    "collapsed": true
   },
   "outputs": [],
   "source": [
    "def test_build_default_params():\n",
    "    with patch.object(requests,'get') as mock_get:\n",
    "        default_map=map_at(51.0, 0.0)\n",
    "        mock_get.assert_called_with(\n",
    "        \"http://maps.googleapis.com/maps/api/staticmap?\",\n",
    "        params={\n",
    "            'sensor':'false',\n",
    "            'zoom':12,\n",
    "            'size':'400x400',\n",
    "            'center':'51.0,0.0',\n",
    "            'style':'feature:all|element:labels|visibility:off'\n",
    "        }\n",
    "    )\n",
    "test_build_default_params()"
   ]
  },
  {
   "cell_type": "code",
   "execution_count": 70,
   "metadata": {
    "collapsed": true
   },
   "outputs": [],
   "source": [
    "class MyList:\n",
    "    def __init__(self, elements):\n",
    "        self.elements = elements\n",
    "        \n",
    "    def exponentiate_elements(self, exponent):\n",
    "        return [pow(e, exponent) for e in self.elements]\n",
    "    \n",
    "def square_list(elements):\n",
    "    lst = MyList(elements)\n",
    "    return lst.exponentiate_elements(2)\n",
    "\n",
    "#square_list([1,2,3,4])\n",
    "\n",
    "def test_exponentiate_input():\n",
    "    with patch.object(MyList, 'exponentiate_elements') as mock_exp:\n",
    "        squared_list=square_list([1,2,3,4])\n",
    "        mock_exp.assert_called_with(2)\n",
    "        \n",
    "test_exponentiate_input()        "
   ]
  },
  {
   "cell_type": "markdown",
   "metadata": {},
   "source": [
    "That was quiet, so it passed. When I'm writing tests, I usually modify one of the expectations, to something 'wrong', just to check it's not\n",
    "passing \"by accident\", run the tests, then change it back!"
   ]
  },
  {
   "cell_type": "markdown",
   "metadata": {},
   "source": [
    "### Testing functions that call other functions\n",
    "\n",
    "<div align=\"left\">"
   ]
  },
  {
   "cell_type": "code",
   "execution_count": 28,
   "metadata": {
    "attributes": {
     "classes": [
      " python"
     ],
     "id": ""
    },
    "collapsed": true
   },
   "outputs": [],
   "source": [
    "def partial_derivative(function, at, direction, delta=1.0):\n",
    "    f_x=function(at)\n",
    "    x_plus_delta=at[:]\n",
    "    x_plus_delta[direction]+=delta\n",
    "    f_x_plus_delta=function(x_plus_delta)\n",
    "    return (f_x_plus_delta-f_x)/delta"
   ]
  },
  {
   "cell_type": "markdown",
   "metadata": {},
   "source": [
    "We want to test that the above function does the right thing. It is supposed to compute the derivative of a function\n",
    "of a vector in a particular direction."
   ]
  },
  {
   "cell_type": "markdown",
   "metadata": {},
   "source": [
    "E.g.:"
   ]
  },
  {
   "cell_type": "code",
   "execution_count": 17,
   "metadata": {},
   "outputs": [
    {
     "data": {
      "text/plain": [
       "1.0"
      ]
     },
     "execution_count": 17,
     "metadata": {},
     "output_type": "execute_result"
    }
   ],
   "source": [
    "partial_derivative(sum, [0,0,0], 1)"
   ]
  },
  {
   "cell_type": "markdown",
   "metadata": {},
   "source": [
    "How do we assert that it is doing the right thing? With tests like this:"
   ]
  },
  {
   "cell_type": "code",
   "execution_count": 37,
   "metadata": {
    "collapsed": true
   },
   "outputs": [],
   "source": [
    "from unittest.mock import MagicMock\n",
    "\n",
    "def test_derivative_2d_y_direction():\n",
    "    func=MagicMock()\n",
    "    partial_derivative(func, [0,0], 1)\n",
    "    func.assert_any_call([0, 1.0])\n",
    "    func.assert_any_call([0, 0.0])\n",
    "    \n",
    "\n",
    "test_derivative_2d_y_direction()"
   ]
  },
  {
   "cell_type": "code",
   "execution_count": 75,
   "metadata": {},
   "outputs": [],
   "source": [
    "def f(func, in_list):\n",
    "    return [func(l) for l in in_list]\n",
    "\n",
    "def test_my_func():\n",
    "    func = MagicMock()\n",
    "    f(func, [1,2,3,4])\n",
    "    func.assert_called_with(4)\n",
    "    func.assert_any_call(1)\n",
    "\n",
    "test_my_func()"
   ]
  },
  {
   "cell_type": "code",
   "execution_count": 85,
   "metadata": {},
   "outputs": [],
   "source": [
    "import math\n",
    "\n",
    "def sin_power(x, pwr):\n",
    "    return math.sin(pow(x, pwr))\n",
    "\n",
    "with patch.object(math, 'sin') as mock_sin:\n",
    "    sin_power(2,3)\n",
    "    mock_sin.assert_called_with(8)"
   ]
  },
  {
   "cell_type": "markdown",
   "metadata": {},
   "source": [
    "We made our mock a \"Magic Mock\" because otherwise, the mock results `f_x_plus_delta` and `f_x` can't be subtracted:"
   ]
  },
  {
   "cell_type": "code",
   "execution_count": 19,
   "metadata": {},
   "outputs": [
    {
     "data": {
      "text/plain": [
       "<MagicMock name='mock.__sub__()' id='2295172443048'>"
      ]
     },
     "execution_count": 19,
     "metadata": {},
     "output_type": "execute_result"
    }
   ],
   "source": [
    "MagicMock()-MagicMock()"
   ]
  },
  {
   "cell_type": "code",
   "execution_count": 20,
   "metadata": {},
   "outputs": [
    {
     "ename": "TypeError",
     "evalue": "unsupported operand type(s) for -: 'Mock' and 'Mock'",
     "output_type": "error",
     "traceback": [
      "\u001b[1;31m---------------------------------------------------------------------------\u001b[0m",
      "\u001b[1;31mTypeError\u001b[0m                                 Traceback (most recent call last)",
      "\u001b[1;32m<ipython-input-20-fca1dbe33378>\u001b[0m in \u001b[0;36m<module>\u001b[1;34m()\u001b[0m\n\u001b[1;32m----> 1\u001b[1;33m \u001b[0mMock\u001b[0m\u001b[1;33m(\u001b[0m\u001b[1;33m)\u001b[0m\u001b[1;33m-\u001b[0m\u001b[0mMock\u001b[0m\u001b[1;33m(\u001b[0m\u001b[1;33m)\u001b[0m\u001b[1;33m\u001b[0m\u001b[0m\n\u001b[0m",
      "\u001b[1;31mTypeError\u001b[0m: unsupported operand type(s) for -: 'Mock' and 'Mock'"
     ]
    }
   ],
   "source": [
    "Mock()-Mock()"
   ]
  }
 ],
 "metadata": {
  "jekyll": {
   "display_name": "Mocks"
  },
  "kernelspec": {
   "display_name": "Python 3",
   "language": "python",
   "name": "python3"
  },
  "language_info": {
   "codemirror_mode": {
    "name": "ipython",
    "version": 3
   },
   "file_extension": ".py",
   "mimetype": "text/x-python",
   "name": "python",
   "nbconvert_exporter": "python",
   "pygments_lexer": "ipython3",
   "version": "3.6.3"
  },
  "widgets": {
   "state": {},
   "version": "1.1.2"
  }
 },
 "nbformat": 4,
 "nbformat_minor": 1
}
