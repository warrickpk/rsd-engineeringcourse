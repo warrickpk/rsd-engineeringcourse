{
 "cells": [
  {
   "cell_type": "code",
   "execution_count": 2,
   "metadata": {
    "collapsed": true
   },
   "outputs": [],
   "source": [
    "import json\n",
    "import yaml"
   ]
  },
  {
   "cell_type": "markdown",
   "metadata": {},
   "source": [
    "## Yaml"
   ]
  },
  {
   "cell_type": "code",
   "execution_count": 7,
   "metadata": {},
   "outputs": [
    {
     "name": "stdout",
     "output_type": "stream",
     "text": [
      "Overwriting house.yaml\n"
     ]
    }
   ],
   "source": [
    "%%writefile house.yaml\n",
    "# Notes: \n",
    "# - for list\n",
    "# indent followed by : for new dict\n",
    "living:\n",
    "    exits:\n",
    "        north:\n",
    "            kitchen\n",
    "        outside:\n",
    "            garden\n",
    "        upstairs:\n",
    "            bedroom\n",
    "    people:\n",
    "        - James\n",
    "    capacity:\n",
    "        2\n",
    "kitchen:\n",
    "    exits:\n",
    "        south:\n",
    "            living\n",
    "    people:\n",
    "        - \n",
    "    capacity:\n",
    "        1\n",
    "garden:\n",
    "    exits:\n",
    "        inside:\n",
    "            living\n",
    "    people:\n",
    "        - Sue\n",
    "    capacity:\n",
    "        3\n",
    "bedroom:\n",
    "    exits:\n",
    "        downstairs:\n",
    "            living\n",
    "        jump:\n",
    "            garden\n",
    "    people:\n",
    "        - \n",
    "    capacity:\n",
    "        1"
   ]
  },
  {
   "cell_type": "code",
   "execution_count": 10,
   "metadata": {},
   "outputs": [
    {
     "data": {
      "text/plain": [
       "{'bedroom': {'capacity': 1,\n",
       "  'exits': {'downstairs': 'living', 'jump': 'garden'},\n",
       "  'people': [None]},\n",
       " 'garden': {'capacity': 3, 'exits': {'inside': 'living'}, 'people': ['Sue']},\n",
       " 'kitchen': {'capacity': 1, 'exits': {'south': 'living'}, 'people': [None]},\n",
       " 'living': {'capacity': 2,\n",
       "  'exits': {'north': 'kitchen', 'outside': 'garden', 'upstairs': 'bedroom'},\n",
       "  'people': ['James']}}"
      ]
     },
     "execution_count": 10,
     "metadata": {},
     "output_type": "execute_result"
    }
   ],
   "source": [
    "house = yaml.load(open('house.yaml'))\n",
    "house"
   ]
  },
  {
   "cell_type": "code",
   "execution_count": 11,
   "metadata": {},
   "outputs": [
    {
     "data": {
      "text/plain": [
       "{'capacity': 1,\n",
       " 'exits': {'downstairs': 'living', 'jump': 'garden'},\n",
       " 'people': [None]}"
      ]
     },
     "execution_count": 11,
     "metadata": {},
     "output_type": "execute_result"
    }
   ],
   "source": [
    "house['bedroom']"
   ]
  },
  {
   "cell_type": "markdown",
   "metadata": {},
   "source": [
    "## Json"
   ]
  },
  {
   "cell_type": "code",
   "execution_count": 14,
   "metadata": {},
   "outputs": [
    {
     "name": "stdout",
     "output_type": "stream",
     "text": [
      "Overwriting house.json\n"
     ]
    }
   ],
   "source": [
    "%%writefile house.json\n",
    "# Notes:\n",
    "# Structured like a dict\n",
    "# Use \" rather than ' for strings\n",
    "{\n",
    "    \"living\" : {\n",
    "        \"exits\": {\n",
    "            \"north\" : \"kitchen\",\n",
    "            \"outside\" : \"garden\",\n",
    "            \"upstairs\" : \"bedroom\"\n",
    "        },\n",
    "        \"people\" : [\"James\"],\n",
    "        \"capacity\" : 2\n",
    "    },\n",
    "    \"kitchen\" : {\n",
    "        \"exits\": {\n",
    "            \"south\" : \"living\"\n",
    "        },\n",
    "        \"people\" : [],\n",
    "        \"capacity\" : 1\n",
    "    },\n",
    "    \"garden\" : {\n",
    "        \"exits\": {\n",
    "            \"inside\" : \"living\"\n",
    "        },\n",
    "        \"people\" : [\"Sue\"],\n",
    "        \"capacity\" : 3\n",
    "    },\n",
    "    \"bedroom\" : {\n",
    "        \"exits\": {\n",
    "            \"downstairs\" : \"living\",\n",
    "            \"jump\" : \"garden\"\n",
    "        },\n",
    "        \"people\" : [],\n",
    "        \"capacity\" : 1\n",
    "    }\n",
    "}"
   ]
  },
  {
   "cell_type": "code",
   "execution_count": 15,
   "metadata": {},
   "outputs": [
    {
     "data": {
      "text/plain": [
       "{'bedroom': {'capacity': 1,\n",
       "  'exits': {'downstairs': 'living', 'jump': 'garden'},\n",
       "  'people': []},\n",
       " 'garden': {'capacity': 3, 'exits': {'inside': 'living'}, 'people': ['Sue']},\n",
       " 'kitchen': {'capacity': 1, 'exits': {'south': 'living'}, 'people': []},\n",
       " 'living': {'capacity': 2,\n",
       "  'exits': {'north': 'kitchen', 'outside': 'garden', 'upstairs': 'bedroom'},\n",
       "  'people': ['James']}}"
      ]
     },
     "execution_count": 15,
     "metadata": {},
     "output_type": "execute_result"
    }
   ],
   "source": [
    "house = json.loads(open('house.json').read())\n",
    "house"
   ]
  },
  {
   "cell_type": "markdown",
   "metadata": {},
   "source": [
    "## Yaml / Json Read / Write"
   ]
  },
  {
   "cell_type": "code",
   "execution_count": 35,
   "metadata": {
    "collapsed": true
   },
   "outputs": [],
   "source": [
    "house = {'living' : {'exits': {'north' : 'kitchen','outside' : 'garden','upstairs' : 'bedroom'},'people' : ['James'],'capacity' : 2},\n",
    "    'kitchen' : {'exits': {'south' : 'living'},'people' : [],'capacity' : 1},\n",
    "    'garden' : {'exits': {'inside' : 'living'},'people' : ['Sue'],'capacity' : 3},\n",
    "    'bedroom' : {'exits': {'downstairs' : 'living','jump' : 'garden'},'people' : [],'capacity' : 1}}"
   ]
  },
  {
   "cell_type": "code",
   "execution_count": 33,
   "metadata": {},
   "outputs": [],
   "source": [
    "with open('house.json','w') as json_maze_out:\n",
    "    json_maze_out.write(json.dumps(house))"
   ]
  },
  {
   "cell_type": "code",
   "execution_count": 34,
   "metadata": {},
   "outputs": [
    {
     "data": {
      "text/plain": [
       "{'bedroom': {'capacity': 1,\n",
       "  'exits': {'downstairs': 'living', 'jump': 'garden'},\n",
       "  'people': []},\n",
       " 'garden': {'capacity': 3, 'exits': {'inside': 'living'}, 'people': ['Sue']},\n",
       " 'kitchen': {'capacity': 1, 'exits': {'south': 'living'}, 'people': []},\n",
       " 'living': {'capacity': 2,\n",
       "  'exits': {'north': 'kitchen', 'outside': 'garden', 'upstairs': 'bedroom'},\n",
       "  'people': ['James']}}"
      ]
     },
     "execution_count": 34,
     "metadata": {},
     "output_type": "execute_result"
    }
   ],
   "source": [
    "with open('house.json') as json_maze_in:\n",
    "    house = json.load(json_maze_in)\n",
    "house"
   ]
  },
  {
   "cell_type": "code",
   "execution_count": 36,
   "metadata": {},
   "outputs": [
    {
     "data": {
      "text/plain": [
       "{'bedroom': {'capacity': 1,\n",
       "  'exits': {'downstairs': 'living', 'jump': 'garden'},\n",
       "  'people': []},\n",
       " 'garden': {'capacity': 3, 'exits': {'inside': 'living'}, 'people': ['Sue']},\n",
       " 'kitchen': {'capacity': 1, 'exits': {'south': 'living'}, 'people': []},\n",
       " 'living': {'capacity': 2,\n",
       "  'exits': {'north': 'kitchen', 'outside': 'garden', 'upstairs': 'bedroom'},\n",
       "  'people': ['James']}}"
      ]
     },
     "execution_count": 36,
     "metadata": {},
     "output_type": "execute_result"
    }
   ],
   "source": [
    "with open('house.yaml','w') as yaml_maze_out:\n",
    "    yaml_maze_out.write(yaml.dump(house))\n",
    "with open('house.yaml') as yaml_maze_in:\n",
    "    house = yaml.load(yaml_maze_in)\n",
    "house"
   ]
  },
  {
   "cell_type": "code",
   "execution_count": null,
   "metadata": {
    "collapsed": true
   },
   "outputs": [],
   "source": []
  }
 ],
 "metadata": {
  "kernelspec": {
   "display_name": "Python 3",
   "language": "python",
   "name": "python3"
  },
  "language_info": {
   "codemirror_mode": {
    "name": "ipython",
    "version": 3
   },
   "file_extension": ".py",
   "mimetype": "text/x-python",
   "name": "python",
   "nbconvert_exporter": "python",
   "pygments_lexer": "ipython3",
   "version": "3.6.3"
  }
 },
 "nbformat": 4,
 "nbformat_minor": 2
}
